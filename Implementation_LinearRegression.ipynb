{
 "cells": [
  {
   "cell_type": "markdown",
   "id": "17ee30e1",
   "metadata": {},
   "source": [
    "# IMPLEMENTATION OF LINEAR REGRESSION ALGORITHM ON DATASET HAVING SINGLE FEATURE AS INPUT AND PREDICTING THE OUTPUT BASED ON TEST DATA."
   ]
  },
  {
   "cell_type": "code",
   "execution_count": 2,
   "id": "a9b664ef",
   "metadata": {},
   "outputs": [],
   "source": [
    "import numpy as np\n",
    "import matplotlib.pyplot as plt\n",
    "import pandas as pd"
   ]
  },
  {
   "cell_type": "code",
   "execution_count": 4,
   "id": "912e09dd",
   "metadata": {},
   "outputs": [],
   "source": [
    "data=pd.read_csv(\"train.csv\")"
   ]
  },
  {
   "cell_type": "code",
   "execution_count": 11,
   "id": "18fbfdfc",
   "metadata": {},
   "outputs": [
    {
     "data": {
      "text/html": [
       "<div>\n",
       "<style scoped>\n",
       "    .dataframe tbody tr th:only-of-type {\n",
       "        vertical-align: middle;\n",
       "    }\n",
       "\n",
       "    .dataframe tbody tr th {\n",
       "        vertical-align: top;\n",
       "    }\n",
       "\n",
       "    .dataframe thead th {\n",
       "        text-align: right;\n",
       "    }\n",
       "</style>\n",
       "<table border=\"1\" class=\"dataframe\">\n",
       "  <thead>\n",
       "    <tr style=\"text-align: right;\">\n",
       "      <th></th>\n",
       "      <th>x</th>\n",
       "      <th>y</th>\n",
       "    </tr>\n",
       "  </thead>\n",
       "  <tbody>\n",
       "    <tr>\n",
       "      <th>0</th>\n",
       "      <td>24.0</td>\n",
       "      <td>21.549452</td>\n",
       "    </tr>\n",
       "    <tr>\n",
       "      <th>1</th>\n",
       "      <td>50.0</td>\n",
       "      <td>47.464463</td>\n",
       "    </tr>\n",
       "    <tr>\n",
       "      <th>2</th>\n",
       "      <td>15.0</td>\n",
       "      <td>17.218656</td>\n",
       "    </tr>\n",
       "    <tr>\n",
       "      <th>3</th>\n",
       "      <td>38.0</td>\n",
       "      <td>36.586398</td>\n",
       "    </tr>\n",
       "    <tr>\n",
       "      <th>4</th>\n",
       "      <td>87.0</td>\n",
       "      <td>87.288984</td>\n",
       "    </tr>\n",
       "  </tbody>\n",
       "</table>\n",
       "</div>"
      ],
      "text/plain": [
       "      x          y\n",
       "0  24.0  21.549452\n",
       "1  50.0  47.464463\n",
       "2  15.0  17.218656\n",
       "3  38.0  36.586398\n",
       "4  87.0  87.288984"
      ]
     },
     "execution_count": 11,
     "metadata": {},
     "output_type": "execute_result"
    }
   ],
   "source": [
    "data.head()"
   ]
  },
  {
   "cell_type": "code",
   "execution_count": 48,
   "id": "f3e4a79d",
   "metadata": {},
   "outputs": [
    {
     "name": "stdout",
     "output_type": "stream",
     "text": [
      "0      24.0\n",
      "1      50.0\n",
      "2      15.0\n",
      "3      38.0\n",
      "4      87.0\n",
      "       ... \n",
      "695    58.0\n",
      "696    93.0\n",
      "697    82.0\n",
      "698    66.0\n",
      "699    97.0\n",
      "Name: x, Length: 700, dtype: float64\n",
      "0      21.549452\n",
      "1      47.464463\n",
      "2      17.218656\n",
      "3      36.586398\n",
      "4      87.288984\n",
      "         ...    \n",
      "695    58.595006\n",
      "696    94.625094\n",
      "697    88.603770\n",
      "698    63.648685\n",
      "699    94.975266\n",
      "Name: y, Length: 700, dtype: float64\n"
     ]
    }
   ],
   "source": [
    "X=data.iloc[:,0]\n",
    "print(X)\n",
    "Y=data.iloc[:,1]\n",
    "print(Y)"
   ]
  },
  {
   "cell_type": "code",
   "execution_count": 16,
   "id": "27687f04",
   "metadata": {},
   "outputs": [
    {
     "name": "stdout",
     "output_type": "stream",
     "text": [
      "(700,)\n",
      "(700,)\n"
     ]
    }
   ],
   "source": [
    "print(X.shape)\n",
    "print(Y.shape)"
   ]
  },
  {
   "cell_type": "code",
   "execution_count": 17,
   "id": "b6604e0f",
   "metadata": {},
   "outputs": [],
   "source": [
    "from sklearn import model_selection"
   ]
  },
  {
   "cell_type": "code",
   "execution_count": 19,
   "id": "a3cfada4",
   "metadata": {},
   "outputs": [],
   "source": [
    "X_train,X_test,Y_train,Y_test=model_selection.train_test_split(X,Y,test_size=0.3)\n",
    "#test-size=0.3 means 30% should be test data and rest is train data"
   ]
  },
  {
   "cell_type": "code",
   "execution_count": 20,
   "id": "2cdfadfc",
   "metadata": {},
   "outputs": [
    {
     "name": "stdout",
     "output_type": "stream",
     "text": [
      "(490,)\n",
      "(210,)\n",
      "(490,)\n",
      "(210,)\n"
     ]
    }
   ],
   "source": [
    "print(X_train.shape)\n",
    "print(X_test.shape)\n",
    "print(Y_train.shape)\n",
    "print(Y_test.shape)"
   ]
  },
  {
   "cell_type": "code",
   "execution_count": 21,
   "id": "4f8faec6",
   "metadata": {},
   "outputs": [],
   "source": [
    "def fit(x_train,y_train):\n",
    "    num=(x_train*y_train).mean()-x_train.mean()*y_train.mean()\n",
    "    den=(x_train**2).mean()-x_train.mean()**2\n",
    "    m=num/den\n",
    "    c=y_train.mean()-m*x_train.mean()\n",
    "    return m,c"
   ]
  },
  {
   "cell_type": "code",
   "execution_count": 23,
   "id": "43e13578",
   "metadata": {},
   "outputs": [],
   "source": [
    "def predict(x,m,c):\n",
    "    return m*x+c "
   ]
  },
  {
   "cell_type": "markdown",
   "id": "83cd1f81",
   "metadata": {},
   "source": [
    "# CALCULATING THE PERFOMANCE OF ALGORITHM BY CALCULATING RELATIVE SQUARED ERROR AND CALCULATING COST FUNCTION WHICH SHOULD BE MINIMIZED."
   ]
  },
  {
   "cell_type": "code",
   "execution_count": 33,
   "id": "815db48c",
   "metadata": {},
   "outputs": [],
   "source": [
    "def score(y_true,y_pred):\n",
    "    u=((y_true-y_pred)**2).sum()\n",
    "    v=((y_true-y_true.mean())**2).sum()\n",
    "    return 1-u/v\n",
    "\n",
    "def cost(x,y,m,c):\n",
    "    return ((y-m*x-c)**2).mean()"
   ]
  },
  {
   "cell_type": "code",
   "execution_count": 25,
   "id": "43491e74",
   "metadata": {},
   "outputs": [
    {
     "name": "stdout",
     "output_type": "stream",
     "text": [
      "0.01870291912740941\n",
      "48.772184712643046\n"
     ]
    }
   ],
   "source": [
    "m,c=fit(X_train,Y_train)    #train the data by fit method\n",
    "print(m)\n",
    "print(c)"
   ]
  },
  {
   "cell_type": "code",
   "execution_count": 28,
   "id": "c41d2413",
   "metadata": {},
   "outputs": [
    {
     "data": {
      "text/plain": [
       "607    50.399339\n",
       "513    49.183649\n",
       "283    48.977917\n",
       "277    49.520301\n",
       "155    50.380636\n",
       "         ...    \n",
       "246    50.025280\n",
       "16     49.258461\n",
       "31     49.239758\n",
       "519    50.361933\n",
       "307    50.193607\n",
       "Name: x, Length: 210, dtype: float64"
      ]
     },
     "execution_count": 28,
     "metadata": {},
     "output_type": "execute_result"
    }
   ],
   "source": [
    "#predict for test data\n",
    "y_test_pred=predict(X_test,m,c)\n",
    "y_test_pred"
   ]
  },
  {
   "cell_type": "code",
   "execution_count": 29,
   "id": "1c2c2d80",
   "metadata": {},
   "outputs": [
    {
     "data": {
      "text/plain": [
       "209    49.744737\n",
       "453    48.921808\n",
       "18     49.314569\n",
       "698    50.006577\n",
       "685    50.642477\n",
       "         ...    \n",
       "538    49.408084\n",
       "311    49.071431\n",
       "220    49.782142\n",
       "282    49.595113\n",
       "263    50.193607\n",
       "Name: x, Length: 490, dtype: float64"
      ]
     },
     "execution_count": 29,
     "metadata": {},
     "output_type": "execute_result"
    }
   ],
   "source": [
    "#predict for train data\n",
    "y_train_pred=predict(X_train,m,c)\n",
    "y_train_pred"
   ]
  },
  {
   "cell_type": "code",
   "execution_count": 31,
   "id": "43bc7d4d",
   "metadata": {},
   "outputs": [
    {
     "name": "stdout",
     "output_type": "stream",
     "text": [
      "test score:  0.03680238694433324\n",
      "test score:  0.03650869917340438\n"
     ]
    }
   ],
   "source": [
    "#score(perfomance) for test data and train data\n",
    "print(\"test score: \",score(Y_test,y_test_pred))\n",
    "print(\"test score: \",score(Y_train,y_train_pred))"
   ]
  },
  {
   "cell_type": "code",
   "execution_count": 36,
   "id": "9c1c17bc",
   "metadata": {},
   "outputs": [
    {
     "name": "stdout",
     "output_type": "stream",
     "text": [
      "cost on trainig data:  811.9885777162817\n"
     ]
    }
   ],
   "source": [
    "print(\"cost on trainig data: \",cost(X_train,Y_train,m,c))"
   ]
  },
  {
   "cell_type": "code",
   "execution_count": null,
   "id": "db08d84e",
   "metadata": {},
   "outputs": [],
   "source": []
  }
 ],
 "metadata": {
  "kernelspec": {
   "display_name": "Python 3",
   "language": "python",
   "name": "python3"
  },
  "language_info": {
   "codemirror_mode": {
    "name": "ipython",
    "version": 3
   },
   "file_extension": ".py",
   "mimetype": "text/x-python",
   "name": "python",
   "nbconvert_exporter": "python",
   "pygments_lexer": "ipython3",
   "version": "3.8.8"
  }
 },
 "nbformat": 4,
 "nbformat_minor": 5
}
